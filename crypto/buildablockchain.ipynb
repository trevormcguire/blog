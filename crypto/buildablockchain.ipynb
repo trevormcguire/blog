{
 "cells": [
  {
   "cell_type": "markdown",
   "metadata": {},
   "source": [
    "## Hashing\n",
    "\n",
    "At the foundation of any blockchain is the concept of hashing.\n",
    "\n",
    "A hash function takes in data of any size and maps it to fixed-size values. You can think of these functions as \"data-scramblers\" that assign seemingly random and unique values to any data. I say *seemingly* because in reality, the values aren't actually random. However, for our purposes, we will be focusing on hash functions that utilize an extremely large pool of values to produce their output. And the size of this pool make it highly unlikely that the hash function will produce the same value for any two distinct inputs. However, when this does occur, it is called a *hash collision*. \n",
    "\n",
    "Technically, the output of a hash function is called a **digest**, although many refer to this output as simply the **hash**. In this article, I will use these terms interchangably. \n",
    "\n",
    "There are many different hash functions out there. For example, Bitcoin uses two consecutive rounds of sha256, while Ethereum uses keccak256. That being said, the important thing to remember is that these hash functions are different means to the same end--that is, they provide a predictable (but seemingly random) output for any input. \n",
    "\n",
    "The type of hash functions we are concerned with are cryptographic hash functions. Generally, these are hash functions that satisfy the following:\n",
    "1. The same input will produce the same output\n",
    "2. Given an output, it is infeasible to obtain the input (except by brute-force trial-and-error over a collasal number of iterations)\n",
    "3. Given two unique inputs, the probability of a hash collision is basically zero\n",
    "4. Any minor change in the input will produce vastly different results\n",
    "5. Computationally fast to produce\n",
    "\n",
    "\n",
    "To put things in perspective (in regards to point number 3 above), the probability of a hash collision for sha256 is 4.3^10-60. And Bitcoin uses two rounds of it.\n",
    "\n",
    "As we’ve discussed, blockchains make use of cryptographic hash functions, which are hash functions that are extremely hard to reverse. Meaning, if we’re given a hash, it’s unfeasibly difficult (on a supercomputing level) to ever guess what the input was"
   ]
  },
  {
   "cell_type": "code",
   "execution_count": 37,
   "metadata": {},
   "outputs": [
    {
     "data": {
      "text/plain": [
       "'613cda5e4af6b97997ed770e2c2a79571dee5a729632786e3b4b06a80d26e7f9'"
      ]
     },
     "execution_count": 37,
     "metadata": {},
     "output_type": "execute_result"
    }
   ],
   "source": [
    "import hashlib\n",
    "\n",
    "data = \"some text data\"\n",
    "bytes_data = bytes(data, \"utf-8\")\n",
    "digest = hashlib.sha256(bytes_data).hexdigest()\n",
    "digest\n"
   ]
  },
  {
   "cell_type": "markdown",
   "metadata": {},
   "source": [
    "Lets now add a single space to the end of our data and see how it changes the resulting hash:"
   ]
  },
  {
   "cell_type": "code",
   "execution_count": 40,
   "metadata": {},
   "outputs": [
    {
     "data": {
      "text/plain": [
       "'33e67677240f8a63b142e66a35acb2f55877badd5566195ede5a8167db54d39d'"
      ]
     },
     "execution_count": 40,
     "metadata": {},
     "output_type": "execute_result"
    }
   ],
   "source": [
    "data = \"some text data \"\n",
    "bytes_data = bytes(data, \"utf-8\")\n",
    "digest = hashlib.sha256(bytes_data).hexdigest()\n",
    "digest"
   ]
  },
  {
   "cell_type": "markdown",
   "metadata": {},
   "source": [
    "As you can see, even with the smallest of changes to the input data, the two resulting hashes look nothing alike\n",
    "```\n",
    "613cda5e4af6b97997ed770e2c2a79571dee5a729632786e3b4b06a80d26e7f9\n",
    "33e67677240f8a63b142e66a35acb2f55877badd5566195ede5a8167db54d39d\n",
    "```\n"
   ]
  },
  {
   "cell_type": "markdown",
   "metadata": {},
   "source": [
    "Any type of data can be hashed. This is the premise behind NFTs. Lets look at an example.\n"
   ]
  },
  {
   "cell_type": "code",
   "execution_count": 151,
   "metadata": {},
   "outputs": [
    {
     "name": "stdout",
     "output_type": "stream",
     "text": [
      "Original Image Hash Value:\n",
      "dc611a2580bb313eb0a6194b2f713d1815a0a1b392c10e19e4e4c859e8326f2b\n",
      "\n",
      "Altered Image Hash Value:\n",
      "a27e344d3a3d329c45939561c5d40ff2f0d6b29573a6f5ddc049a1f2925e6e32\n",
      "\n",
      "Screenshot Image Hash Value:\n",
      "dc611a2580bb313eb0a6194b2f713d1815a0a1b392c10e19e4e4c859e8326f2b\n"
     ]
    }
   ],
   "source": [
    "from PIL import Image\n",
    "\n",
    "# alter one pixel in the curiosity image\n",
    "image_path = \"curiosity_rover_selfie.png\"\n",
    "\n",
    "img = Image.open(image_path)\n",
    "pixel_map = img.load()\n",
    "pixel_map[0, 1] = (29, 30, 30, 255)  # originally was (30, 30, 30, 255)\n",
    "img.save(f\"altered_{image_path}\")\n",
    "\n",
    "# load and hash the original and altered image\n",
    "with open(image_path, \"rb\") as f:\n",
    "    original_image_hash = hashlib.sha256(f.read()).hexdigest()\n",
    "\n",
    "with open(f\"altered_{image_path}\", \"rb\") as f:\n",
    "    altered_image_hash = hashlib.sha256(f.read()).hexdigest()\n",
    "\n",
    "# load and hash a screenshot of the original image\n",
    "with open(f\"curiosity_rover_selfie_screenshot.png\", \"rb\") as f:\n",
    "    screenshot_image_hash = hashlib.sha256(f.read()).hexdigest()\n",
    "\n",
    "print(\"Original Image Hash Value:\")\n",
    "print(original_image_hash)\n",
    "\n",
    "print(\"\\nAltered Image Hash Value:\")\n",
    "print(altered_image_hash)\n",
    "\n",
    "print(\"\\nScreenshot Image Hash Value:\")\n",
    "print(screenshot_image_hash)\n",
    "\n"
   ]
  },
  {
   "cell_type": "markdown",
   "metadata": {},
   "source": [
    "## Proof-of-Work (POW)\n",
    "\n",
    "The Proof-of-Work algorithm dates back to the early 90s and was originally used to prevent denial-of-service attacks. The idea behind the algorithm is straightforward: produce a hash value that satisfies some constraint.\n",
    "\n",
    "In Bitcoin, the Proof-of-Work algorithm used is called Hashcash, and was developed by Adam Back in 1997 for email spam protection. \n",
    "The idea was to only accept emails that had a hash value below a certain number. This sounds pretty simple, but when considering that cryptographic hash functions produce a completely \"random\" number for a given input, one can start to see why this is effective. In fact, the only real way to satisfy this constraint is to insert arbitrary data, hash it, and then hope for the best. This process is done countless times until the value of the hash is less than the target number.\n",
    "\n",
    "Lets simulate this. Below, I wrote a fake email and defined a target number equal to 1 million. In order for my email to be considered \"not spam\", the integer value of its hash must be less than this target number. To accomplish this, we iteratively append random values until this constraint is met. Note that the hash function used here is Shake-128, which lets you choose its output size.  "
   ]
  },
  {
   "cell_type": "code",
   "execution_count": 127,
   "metadata": {},
   "outputs": [
    {
     "name": "stdout",
     "output_type": "stream",
     "text": [
      "Number of Iterations to Meet The Constraint: 642\n",
      "\n",
      "\n",
      "from: somebody123@gmail.com\n",
      "subject: hash function concept demo\n",
      "\n",
      "This is an email that, when hashed, must have a value less than the target number\n",
      "in order to be accepted as valid.\n",
      "\n",
      "Best,\n",
      "Trevor\n",
      "\n",
      "M4I\u001d(\u0012\u0018wpD\u0019\u001640\u0000++\u0018N{E\u001f]G;-xKVrXDYDJu4p/Mhh\u001e\"myU\n",
      "aG\"\u001a#P\u0002u3\u000e*ze\u00016<\\Q\u001e|fh5F\u0003&3 mgXN*iIX~)p\u0002~\u0003I-?\u0000cH\u0006\"\u0018\u0005;??\t\u001ay8#\u000b  \u000f~_?l\u001aUcsNm\u0013m@\u0014\u001c4L\u0018woHv=\u0015\u000btC3D\u001d*J\u0006\n",
      "\n",
      ":6}/yV\u0000fISpoV)R4\u000b!3O\fd\u001aU,]l\u001af(BGY5g\u0000>M\u0012\u001b:kHb\u001b2!Cbq`RBP5wOK\u0003Q\u001dg4KvQqqW\n",
      "@^5<qT\u0010RX\u001d&EjK\u000eDB\t~Vf\u0004\u0005D\u0002\u000b-UX1\u0018\u000fTr\u0012WX\n",
      "O1H%Av\u001e8\u0002x8\u001e]uq\f\fxxSak\u0010KW\t\u001b\u001c8\n",
      "@q+JQRX^]RA=\u001f\t\u0013o9\u0007\u001clj\u0015q\u001e\u0007hL^!\u0015\u0002:Z\u000e\u0016%&f\u001a5f\u001a\u0002\u0014(b$/\u0006#}yhf1v1%*~UC\u0011vDD4:pZ~A@qfw?=[b\tz\u0000\n",
      "eS\u001a\u001dk-\u0019\u001dn$~az\u0002\u0003r8]Z7(\u0013\u00194[7\u0017tp\u000e\u0010\n",
      "2tHA@0W~\u0000.,?V?\u0018.\u001fA% s\u0010)r\u000ert\u0000O#\u0016~B\u0000e\\%UPb6+\u00146_]l6kG\u001fF A?\u0014:!0}u+W\n",
      "R,-B(\u0007V\u0003(E%G\n",
      "@^5<qT\u0010RX\u001d&EjK\u000eDB\t~Vf\u0004\u0005D\u0002\u000b-UX1\u0018\u000fTr\u0012WX\n",
      "O1H%Av\u001e8\u0002x8\u001e]uq\f\fxxSak\u0010KW\t\u001b\u001c8\n",
      "@q+JQRX^]RA=\u001f\t\u0013o9\u0007\u001clj\u0015q\u001e\u0007hL^!\u0015\u0002:Z\u000e\u0016%&f\u001a5f\u001a\u0002\u0014(b$/\u0006#}yhf1v1%*~UC\u0011vDD4:pZ~A@qfw?=[b\tz\u0000\n",
      "eS\u001a\u001dk-\u0019\u001dn$~az\u0002\u0003r8]Z7(\u0013\u00194[7\u0017tp\u000e\u0010\n",
      "2tHA@0W~\u0000.,?V?\u0018.\u001fA% s\u0010)r\u000ert\u0000O#\u0016~B\u0000e\\%UPb6+\u00146_]l6kG\u001fF A?\u0014:!0}u+W\n"
     ]
    }
   ],
   "source": [
    "import random\n",
    "\n",
    "target_number = 5_000_000\n",
    "\n",
    "email = \"\"\"\n",
    "from: somebody123@gmail.com\n",
    "subject: hash function concept demo\n",
    "\n",
    "This is an email that, when hashed, must have a value less than the target number\n",
    "in order to be accepted as valid.\n",
    "\n",
    "Best,\n",
    "Trevor\n",
    "\n",
    "\"\"\"\n",
    "\n",
    "num_iters = 0\n",
    "r = False\n",
    "while not r:\n",
    "    r = int.from_bytes(hashlib.shake_128(bytes(email, \"utf-8\")).digest(4), \"big\") < target_number\n",
    "    email += chr(random.choice(range(0, 128)))  # append a random character to the end of the email\n",
    "    num_iters += 1\n",
    "\n",
    "print(f\"Number of Iterations to Meet The Constraint: {num_iters}\\n\")\n",
    "print(email)\n"
   ]
  },
  {
   "cell_type": "markdown",
   "metadata": {},
   "source": [
    "It took 642 iterations of adding random characters to the end of the email until its hash had a value less than our target. This is the \"work\" in Proof-of-Work -- the computer must perform some operations to transform the desired data so that the hash can be verified as valid.\n",
    "\n",
    "\n",
    "\n",
    "https://en.bitcoin.it/wiki/Secp256k1"
   ]
  },
  {
   "cell_type": "markdown",
   "metadata": {},
   "source": [
    "## Blocks and the Blockchain\n",
    "\n",
    "A so-called **block** can contain any type of data -- from images to financial transactions. Each block points to a previous block. For example, Block 100 contains the hash of Block 99, which contains the hash of Block 98, and so on. Stated differently, the blocks are *chained* together via their hashes -- hence the term **blockchain**. \n",
    "\n",
    "A simple block might look something like the below:"
   ]
  },
  {
   "cell_type": "code",
   "execution_count": null,
   "metadata": {},
   "outputs": [],
   "source": [
    "{\n",
    "    \"index\": 100,\n",
    "    \"timestamp\": \"2022-10-01T09:01:00\",\n",
    "    \"data\": [{\"sender\": \"bob\", \"recipient\": \"alice\", \"amount\": 500}],\n",
    "    \"prev_hash\": \"345dzxf253\",\n",
    "    \"hash\": \"e9bcme42c7\"\n",
    "}\n"
   ]
  },
  {
   "cell_type": "markdown",
   "metadata": {},
   "source": [
    "Notice how this block contains the field \"prev_hash\", which has a value equal to the hash of the previous block. This fact makes a blockchain immutable -- meaning it is impossible to change.\n",
    "\n",
    "To show this, consider if an attacker manages to change a single bit of data in Block 99. If this occurs, the block's hash would change (remember that even the smallest change to a hash function's input will cause a wildly different result). This would then change the prev_hash field in Block 100, rendering it invalid. Ultimately, this would have a cascading effect for every single block after Block 99, causing the entire blockchain to become invalid. \n",
    "\n",
    "Stated differently, if someone attempted to commit fraud by altering the amount of a transaction, all subsequent hash values will change. This would immediately be recognized by everyone else in the network, and the change would be ignored by consensus. This is an important concept, as it serves as an underlying security mechanism behind a blockchain.\n",
    "\n"
   ]
  }
 ],
 "metadata": {
  "kernelspec": {
   "display_name": "Python 3.9.7 ('env')",
   "language": "python",
   "name": "python3"
  },
  "language_info": {
   "codemirror_mode": {
    "name": "ipython",
    "version": 3
   },
   "file_extension": ".py",
   "mimetype": "text/x-python",
   "name": "python",
   "nbconvert_exporter": "python",
   "pygments_lexer": "ipython3",
   "version": "3.9.7"
  },
  "orig_nbformat": 4,
  "vscode": {
   "interpreter": {
    "hash": "23788e515e1378e7aa4a55b4b621703526581b241cd76de9afe7c566e1078aab"
   }
  }
 },
 "nbformat": 4,
 "nbformat_minor": 2
}
